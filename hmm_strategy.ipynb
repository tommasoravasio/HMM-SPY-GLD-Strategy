{
 "cells": [
  {
   "cell_type": "markdown",
   "metadata": {},
   "source": [
    "# Hidden Markov Model for Regime Detection\n",
    "\n",
    "This notebook implements a Gaussian Hidden Markov Model (HMM) to identify market regimes (bull and bear markets) using weekly SPY data."
   ]
  },
  {
   "cell_type": "code",
   "execution_count": null,
   "metadata": {},
   "outputs": [],
   "source": [
    "import pandas as pd\n",
    "import numpy as np\n",
    "from hmmlearn.hmm import GaussianHMM\n",
    "import matplotlib.pyplot as plt\n",
    "import warnings\n",
    "\n",
    "warnings.filterwarnings(\"ignore\")"
   ]
  },
  {
   "cell_type": "markdown",
   "metadata": {},
   "source": [
    "## Load and Preprocess Data\n",
    "\n",
    "1.  Load the daily SPY and GLD price data.\n",
    "2.  Set the 'Date' column as the index.\n",
    "3.  Remove rows with missing 'SPY' values.\n",
    "4.  Resample the data to a weekly frequency, using the last price of each week.\n",
    "5.  Calculate the weekly percentage change in prices to get the returns."
   ]
  },
  {
   "cell_type": "code",
   "execution_count": null,
   "metadata": {},
   "outputs": [],
   "source": [
    "df = pd.read_csv('data/spy_gld.csv', index_col='Date', parse_dates=True)\n",
    "\n",
    "# Drop rows with missing SPY data\n",
    "df.dropna(subset=['SPY'], inplace=True)\n",
    "\n",
    "# Resample to weekly data, using Friday's data\n",
    "df_weekly = df.asfreq('W-FRI').ffill()\n",
    "\n",
    "# Calculate weekly returns\n",
    "df_returns = df_weekly.pct_change().dropna()\n",
    "\n",
    "df_returns.head()"
   ]
  },
  {
   "cell_type": "markdown",
   "metadata": {},
   "source": [
    "## Implement Gaussian HMM\n",
    "\n",
    "1.  Define a `GaussianHMM` with two components (states) representing bull and bear markets.\n",
    "2.  Use a rolling window of 104 weeks (2 years) to train the model.\n",
    "3.  For each window, fit the HMM to the weekly SPY returns.\n",
    "4.  Predict the hidden state for the last week in the window.\n",
    "5.  Identify the bull state as the one with the higher mean return."
   ]
  },
  {
   "cell_type": "code",
   "execution_count": null,
   "metadata": {},
   "outputs": [],
   "source": [
    "# Define the HMM model\n",
    "model = GaussianHMM(n_components=2, covariance_type=\"diag\", n_iter=1000, random_state=42)\n",
    "\n",
    "# Define the window size for the rolling analysis\n",
    "window_size = 104\n",
    "predicted_states = []\n",
    "\n",
    "# Fit the model on a rolling basis\n",
    "for i in range(window_size, len(df_returns)):\n",
    "    window = df_returns['SPY'].values[i-window_size:i].reshape(-1, 1)\n",
    "    model.fit(window)\n",
    "    state = model.predict(window)[-1]\n",
    "    \n",
    "    # Identify bull and bear states based on the mean returns\n",
    "    # The state with the higher mean is considered the 'bull' state.\n",
    "    if model.means_[0][0] > model.means_[1][0]:\n",
    "        bull_state = 0\n",
    "    else:\n",
    "        bull_state = 1\n",
    "        \n",
    "    # Store 0 for bull and 1 for bear\n",
    "    predicted_states.append(0 if state == bull_state else 1)\n",
    "\n",
    "# Add the predicted states to the DataFrame\n",
    "df_returns['state'] = np.nan\n",
    "df_returns['state'].iloc[window_size:] = predicted_states"
   ]
  },
  {
   "cell_type": "markdown",
   "metadata": {},
   "source": [
    "## Visualize the Results\n",
    "\n",
    "Plot the SPY price and color the background to indicate the detected market regime:\n",
    "-   **Green**: Bull market\n",
    "-   **Red**: Bear market"
   ]
  },
  {
   "cell_type": "code",
   "execution_count": null,
   "metadata": {},
   "outputs": [],
   "source": [
    "fig, ax = plt.subplots(figsize=(15, 8))\n",
    "\n",
    "# Plot the SPY price\n",
    "ax.plot(df_weekly.index, df_weekly['SPY'], color='black', label='SPY Price')\n",
    "ax.set_ylabel('SPY Price')\n",
    "ax.set_title('SPY Price with HMM Regimes')\n",
    "ax.grid(True)\n",
    "\n",
    "# Color the background based on the predicted state\n",
    "ax.fill_between(df_returns.index, ax.get_ylim()[0], ax.get_ylim()[1], where=df_returns['state']==0, color='green', alpha=0.3, label='Bull Market')\n",
    "ax.fill_between(df_returns.index, ax.get_ylim()[0], ax.get_ylim()[1], where=df_returns['state']==1, color='red', alpha=0.3, label='Bear Market')\n",
    "\n",
    "ax.legend()\n",
    "plt.show()"
   ]
  }
 ],
 "metadata": {
  "kernelspec": {
   "display_name": "Python 3",
   "language": "python",
   "name": "python3"
  },
  "language_info": {
   "codemirror_mode": {
    "name": "ipython",
    "version": 3
   },
   "file_extension": ".py",
   "mimetype": "text/x-python",
   "name": "python",
   "nbconvert_exporter": "python",
   "pygments_lexer": "ipython3",
   "version": "3.12.11"
  }
 },
 "nbformat": 4,
 "nbformat_minor": 2
}
